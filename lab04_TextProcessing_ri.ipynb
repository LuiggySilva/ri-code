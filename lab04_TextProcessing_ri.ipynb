{
  "nbformat": 4,
  "nbformat_minor": 0,
  "metadata": {
    "colab": {
      "name": "RI - LAB04 - TextProcessing.ipynb",
      "provenance": [],
      "collapsed_sections": []
    },
    "kernelspec": {
      "name": "python3",
      "display_name": "Python 3"
    },
    "widgets": {
      "application/vnd.jupyter.widget-state+json": {
        "f52e89671bc344c99dd2babcf8daecad": {
          "model_module": "@jupyter-widgets/controls",
          "model_name": "HBoxModel",
          "model_module_version": "1.5.0",
          "state": {
            "_dom_classes": [],
            "_model_module": "@jupyter-widgets/controls",
            "_model_module_version": "1.5.0",
            "_model_name": "HBoxModel",
            "_view_count": null,
            "_view_module": "@jupyter-widgets/controls",
            "_view_module_version": "1.5.0",
            "_view_name": "HBoxView",
            "box_style": "",
            "children": [
              "IPY_MODEL_281d003f38c14f76886705ebadfe009d",
              "IPY_MODEL_4ddc71a15c734fb0910d72ade17eb745",
              "IPY_MODEL_01db30582579461980f65a00890c28f1"
            ],
            "layout": "IPY_MODEL_8a08c885ec9f4e609a20ca45708dea77"
          }
        },
        "281d003f38c14f76886705ebadfe009d": {
          "model_module": "@jupyter-widgets/controls",
          "model_name": "HTMLModel",
          "model_module_version": "1.5.0",
          "state": {
            "_dom_classes": [],
            "_model_module": "@jupyter-widgets/controls",
            "_model_module_version": "1.5.0",
            "_model_name": "HTMLModel",
            "_view_count": null,
            "_view_module": "@jupyter-widgets/controls",
            "_view_module_version": "1.5.0",
            "_view_name": "HTMLView",
            "description": "",
            "description_tooltip": null,
            "layout": "IPY_MODEL_4f4cf0113fce4a45b30cc56210165322",
            "placeholder": "​",
            "style": "IPY_MODEL_2d156df7b2f04c039efd4f150408d51c",
            "value": "Downloading https://raw.githubusercontent.com/stanfordnlp/stanza-resources/main/resources_1.4.0.json: "
          }
        },
        "4ddc71a15c734fb0910d72ade17eb745": {
          "model_module": "@jupyter-widgets/controls",
          "model_name": "FloatProgressModel",
          "model_module_version": "1.5.0",
          "state": {
            "_dom_classes": [],
            "_model_module": "@jupyter-widgets/controls",
            "_model_module_version": "1.5.0",
            "_model_name": "FloatProgressModel",
            "_view_count": null,
            "_view_module": "@jupyter-widgets/controls",
            "_view_module_version": "1.5.0",
            "_view_name": "ProgressView",
            "bar_style": "success",
            "description": "",
            "description_tooltip": null,
            "layout": "IPY_MODEL_acb7972a83554acea68fb716accc0983",
            "max": 25998,
            "min": 0,
            "orientation": "horizontal",
            "style": "IPY_MODEL_0d1d8074cce64e53b42a31652e8af92c",
            "value": 25998
          }
        },
        "01db30582579461980f65a00890c28f1": {
          "model_module": "@jupyter-widgets/controls",
          "model_name": "HTMLModel",
          "model_module_version": "1.5.0",
          "state": {
            "_dom_classes": [],
            "_model_module": "@jupyter-widgets/controls",
            "_model_module_version": "1.5.0",
            "_model_name": "HTMLModel",
            "_view_count": null,
            "_view_module": "@jupyter-widgets/controls",
            "_view_module_version": "1.5.0",
            "_view_name": "HTMLView",
            "description": "",
            "description_tooltip": null,
            "layout": "IPY_MODEL_fb214e0df9eb4d97855078b69695fe95",
            "placeholder": "​",
            "style": "IPY_MODEL_91391d725d2645e986fc782666a3952d",
            "value": " 154k/? [00:00&lt;00:00, 1.37MB/s]"
          }
        },
        "8a08c885ec9f4e609a20ca45708dea77": {
          "model_module": "@jupyter-widgets/base",
          "model_name": "LayoutModel",
          "model_module_version": "1.2.0",
          "state": {
            "_model_module": "@jupyter-widgets/base",
            "_model_module_version": "1.2.0",
            "_model_name": "LayoutModel",
            "_view_count": null,
            "_view_module": "@jupyter-widgets/base",
            "_view_module_version": "1.2.0",
            "_view_name": "LayoutView",
            "align_content": null,
            "align_items": null,
            "align_self": null,
            "border": null,
            "bottom": null,
            "display": null,
            "flex": null,
            "flex_flow": null,
            "grid_area": null,
            "grid_auto_columns": null,
            "grid_auto_flow": null,
            "grid_auto_rows": null,
            "grid_column": null,
            "grid_gap": null,
            "grid_row": null,
            "grid_template_areas": null,
            "grid_template_columns": null,
            "grid_template_rows": null,
            "height": null,
            "justify_content": null,
            "justify_items": null,
            "left": null,
            "margin": null,
            "max_height": null,
            "max_width": null,
            "min_height": null,
            "min_width": null,
            "object_fit": null,
            "object_position": null,
            "order": null,
            "overflow": null,
            "overflow_x": null,
            "overflow_y": null,
            "padding": null,
            "right": null,
            "top": null,
            "visibility": null,
            "width": null
          }
        },
        "4f4cf0113fce4a45b30cc56210165322": {
          "model_module": "@jupyter-widgets/base",
          "model_name": "LayoutModel",
          "model_module_version": "1.2.0",
          "state": {
            "_model_module": "@jupyter-widgets/base",
            "_model_module_version": "1.2.0",
            "_model_name": "LayoutModel",
            "_view_count": null,
            "_view_module": "@jupyter-widgets/base",
            "_view_module_version": "1.2.0",
            "_view_name": "LayoutView",
            "align_content": null,
            "align_items": null,
            "align_self": null,
            "border": null,
            "bottom": null,
            "display": null,
            "flex": null,
            "flex_flow": null,
            "grid_area": null,
            "grid_auto_columns": null,
            "grid_auto_flow": null,
            "grid_auto_rows": null,
            "grid_column": null,
            "grid_gap": null,
            "grid_row": null,
            "grid_template_areas": null,
            "grid_template_columns": null,
            "grid_template_rows": null,
            "height": null,
            "justify_content": null,
            "justify_items": null,
            "left": null,
            "margin": null,
            "max_height": null,
            "max_width": null,
            "min_height": null,
            "min_width": null,
            "object_fit": null,
            "object_position": null,
            "order": null,
            "overflow": null,
            "overflow_x": null,
            "overflow_y": null,
            "padding": null,
            "right": null,
            "top": null,
            "visibility": null,
            "width": null
          }
        },
        "2d156df7b2f04c039efd4f150408d51c": {
          "model_module": "@jupyter-widgets/controls",
          "model_name": "DescriptionStyleModel",
          "model_module_version": "1.5.0",
          "state": {
            "_model_module": "@jupyter-widgets/controls",
            "_model_module_version": "1.5.0",
            "_model_name": "DescriptionStyleModel",
            "_view_count": null,
            "_view_module": "@jupyter-widgets/base",
            "_view_module_version": "1.2.0",
            "_view_name": "StyleView",
            "description_width": ""
          }
        },
        "acb7972a83554acea68fb716accc0983": {
          "model_module": "@jupyter-widgets/base",
          "model_name": "LayoutModel",
          "model_module_version": "1.2.0",
          "state": {
            "_model_module": "@jupyter-widgets/base",
            "_model_module_version": "1.2.0",
            "_model_name": "LayoutModel",
            "_view_count": null,
            "_view_module": "@jupyter-widgets/base",
            "_view_module_version": "1.2.0",
            "_view_name": "LayoutView",
            "align_content": null,
            "align_items": null,
            "align_self": null,
            "border": null,
            "bottom": null,
            "display": null,
            "flex": null,
            "flex_flow": null,
            "grid_area": null,
            "grid_auto_columns": null,
            "grid_auto_flow": null,
            "grid_auto_rows": null,
            "grid_column": null,
            "grid_gap": null,
            "grid_row": null,
            "grid_template_areas": null,
            "grid_template_columns": null,
            "grid_template_rows": null,
            "height": null,
            "justify_content": null,
            "justify_items": null,
            "left": null,
            "margin": null,
            "max_height": null,
            "max_width": null,
            "min_height": null,
            "min_width": null,
            "object_fit": null,
            "object_position": null,
            "order": null,
            "overflow": null,
            "overflow_x": null,
            "overflow_y": null,
            "padding": null,
            "right": null,
            "top": null,
            "visibility": null,
            "width": null
          }
        },
        "0d1d8074cce64e53b42a31652e8af92c": {
          "model_module": "@jupyter-widgets/controls",
          "model_name": "ProgressStyleModel",
          "model_module_version": "1.5.0",
          "state": {
            "_model_module": "@jupyter-widgets/controls",
            "_model_module_version": "1.5.0",
            "_model_name": "ProgressStyleModel",
            "_view_count": null,
            "_view_module": "@jupyter-widgets/base",
            "_view_module_version": "1.2.0",
            "_view_name": "StyleView",
            "bar_color": null,
            "description_width": ""
          }
        },
        "fb214e0df9eb4d97855078b69695fe95": {
          "model_module": "@jupyter-widgets/base",
          "model_name": "LayoutModel",
          "model_module_version": "1.2.0",
          "state": {
            "_model_module": "@jupyter-widgets/base",
            "_model_module_version": "1.2.0",
            "_model_name": "LayoutModel",
            "_view_count": null,
            "_view_module": "@jupyter-widgets/base",
            "_view_module_version": "1.2.0",
            "_view_name": "LayoutView",
            "align_content": null,
            "align_items": null,
            "align_self": null,
            "border": null,
            "bottom": null,
            "display": null,
            "flex": null,
            "flex_flow": null,
            "grid_area": null,
            "grid_auto_columns": null,
            "grid_auto_flow": null,
            "grid_auto_rows": null,
            "grid_column": null,
            "grid_gap": null,
            "grid_row": null,
            "grid_template_areas": null,
            "grid_template_columns": null,
            "grid_template_rows": null,
            "height": null,
            "justify_content": null,
            "justify_items": null,
            "left": null,
            "margin": null,
            "max_height": null,
            "max_width": null,
            "min_height": null,
            "min_width": null,
            "object_fit": null,
            "object_position": null,
            "order": null,
            "overflow": null,
            "overflow_x": null,
            "overflow_y": null,
            "padding": null,
            "right": null,
            "top": null,
            "visibility": null,
            "width": null
          }
        },
        "91391d725d2645e986fc782666a3952d": {
          "model_module": "@jupyter-widgets/controls",
          "model_name": "DescriptionStyleModel",
          "model_module_version": "1.5.0",
          "state": {
            "_model_module": "@jupyter-widgets/controls",
            "_model_module_version": "1.5.0",
            "_model_name": "DescriptionStyleModel",
            "_view_count": null,
            "_view_module": "@jupyter-widgets/base",
            "_view_module_version": "1.2.0",
            "_view_name": "StyleView",
            "description_width": ""
          }
        }
      }
    }
  },
  "cells": [
    {
      "cell_type": "markdown",
      "source": [
        "# Identificação:\n",
        "\n",
        "Matrícula: 117211159\n",
        "\n",
        "Nome: Luiggy Ferreira Dias Silva"
      ],
      "metadata": {
        "id": "5oA-fc5uq1TY"
      }
    },
    {
      "cell_type": "markdown",
      "metadata": {
        "id": "WRM4kEujWfvh"
      },
      "source": [
        "# Processamento de Texto\n",
        "\n",
        "Neste notebook, nós vamos ver na prática como podemos aplicar algumas técnicas de processamento de texto programaticamente, usando algumas bibliotecas conhecidas."
      ]
    },
    {
      "cell_type": "markdown",
      "source": [
        "## NLTK"
      ],
      "metadata": {
        "id": "eY-6nQzpHdyJ"
      }
    },
    {
      "cell_type": "markdown",
      "source": [
        "Vamos começar usando a biblioteca  [NLTK (Natural Language Toolkit)](https://www.nltk.org/)."
      ],
      "metadata": {
        "id": "O_QLfxFRHX4k"
      }
    },
    {
      "cell_type": "markdown",
      "source": [
        "Primeiramente, vamos importar as bibliotecas python que vamos usar nesse tutorial:"
      ],
      "metadata": {
        "id": "wCkjpU7yGbPy"
      }
    },
    {
      "cell_type": "code",
      "metadata": {
        "id": "EJ5lxzoWTTkH"
      },
      "source": [
        "import matplotlib.pyplot as plt\n",
        "import nltk\n",
        "from nltk.corpus import stopwords\n",
        "from nltk.corpus import wordnet\n",
        "from nltk.probability import FreqDist\n",
        "from nltk.stem import PorterStemmer, SnowballStemmer, WordNetLemmatizer\n",
        "from nltk.tokenize import sent_tokenize, word_tokenize\n",
        "\n",
        "%matplotlib inline"
      ],
      "execution_count": null,
      "outputs": []
    },
    {
      "cell_type": "markdown",
      "metadata": {
        "id": "TSEiZiM-WyDH"
      },
      "source": [
        "e vamos fazer o download de alguns módulos específicos do NLTK:"
      ]
    },
    {
      "cell_type": "code",
      "metadata": {
        "id": "oovkh3xLWVob",
        "colab": {
          "base_uri": "https://localhost:8080/"
        },
        "outputId": "4e974c1b-7e11-48c1-e74d-6086353ac457"
      },
      "source": [
        "nltk.download('averaged_perceptron_tagger')\n",
        "nltk.download('punkt')\n",
        "nltk.download('stopwords')\n",
        "nltk.download('wordnet')\n",
        "nltk.download('omw-1.4')"
      ],
      "execution_count": null,
      "outputs": [
        {
          "output_type": "stream",
          "name": "stderr",
          "text": [
            "[nltk_data] Downloading package averaged_perceptron_tagger to\n",
            "[nltk_data]     /root/nltk_data...\n",
            "[nltk_data]   Unzipping taggers/averaged_perceptron_tagger.zip.\n",
            "[nltk_data] Downloading package punkt to /root/nltk_data...\n",
            "[nltk_data]   Unzipping tokenizers/punkt.zip.\n",
            "[nltk_data] Downloading package stopwords to /root/nltk_data...\n",
            "[nltk_data]   Unzipping corpora/stopwords.zip.\n",
            "[nltk_data] Downloading package wordnet to /root/nltk_data...\n",
            "[nltk_data]   Unzipping corpora/wordnet.zip.\n",
            "[nltk_data] Downloading package omw-1.4 to /root/nltk_data...\n",
            "[nltk_data]   Unzipping corpora/omw-1.4.zip.\n"
          ]
        },
        {
          "output_type": "execute_result",
          "data": {
            "text/plain": [
              "True"
            ]
          },
          "metadata": {},
          "execution_count": 2
        }
      ]
    },
    {
      "cell_type": "markdown",
      "metadata": {
        "id": "qTvWr6xRTmlt"
      },
      "source": [
        "### Tokenization"
      ]
    },
    {
      "cell_type": "markdown",
      "metadata": {
        "id": "iq1pPGC5UUPC"
      },
      "source": [
        "#### Sentence Tokenization"
      ]
    },
    {
      "cell_type": "code",
      "metadata": {
        "id": "cN91rVCVTjEe",
        "colab": {
          "base_uri": "https://localhost:8080/"
        },
        "outputId": "ddff994d-7a25-4f19-f987-e20cc3846c9c"
      },
      "source": [
        "text = \"\"\"Hello Mr. Smith, how are you doing today? \n",
        "    The weather is great, and city is awesome.\n",
        "    The sky is pinkish-blue. You shouldn't eat cardboard\n",
        "\"\"\"\n",
        "\n",
        "tokenized_sent = sent_tokenize(text)\n",
        "print(tokenized_sent)"
      ],
      "execution_count": null,
      "outputs": [
        {
          "output_type": "stream",
          "name": "stdout",
          "text": [
            "['Hello Mr. Smith, how are you doing today?', 'The weather is great, and city is awesome.', 'The sky is pinkish-blue.', \"You shouldn't eat cardboard\"]\n"
          ]
        }
      ]
    },
    {
      "cell_type": "markdown",
      "metadata": {
        "id": "n_Mjh26VvwoI"
      },
      "source": [
        "Nós também podemos tokenizar outras linguas:"
      ]
    },
    {
      "cell_type": "code",
      "metadata": {
        "id": "ppCFC0KivJFB",
        "colab": {
          "base_uri": "https://localhost:8080/"
        },
        "outputId": "6c624f1f-d0bb-42a9-931c-c651dd46a37a"
      },
      "source": [
        "portuguese_text = \"Bom dia, Sr. Smith. Como você está? O tempo está bom, e a cidade maravilhosa.\"\n",
        "\n",
        "print(sent_tokenize(portuguese_text, \"portuguese\"))"
      ],
      "execution_count": null,
      "outputs": [
        {
          "output_type": "stream",
          "name": "stdout",
          "text": [
            "['Bom dia, Sr. Smith.', 'Como você está?', 'O tempo está bom, e a cidade maravilhosa.']\n"
          ]
        }
      ]
    },
    {
      "cell_type": "markdown",
      "metadata": {
        "id": "ZC8SE9fOUW5m"
      },
      "source": [
        "#### Word Tokenization"
      ]
    },
    {
      "cell_type": "code",
      "metadata": {
        "id": "uKu1A9cyT6UA",
        "colab": {
          "base_uri": "https://localhost:8080/"
        },
        "outputId": "fcdbfb2e-8a46-4987-cdd1-2f28b81d1a64"
      },
      "source": [
        "tokenized_word = word_tokenize(text)\n",
        "print(tokenized_word)"
      ],
      "execution_count": null,
      "outputs": [
        {
          "output_type": "stream",
          "name": "stdout",
          "text": [
            "['Hello', 'Mr.', 'Smith', ',', 'how', 'are', 'you', 'doing', 'today', '?', 'The', 'weather', 'is', 'great', ',', 'and', 'city', 'is', 'awesome', '.', 'The', 'sky', 'is', 'pinkish-blue', '.', 'You', 'should', \"n't\", 'eat', 'cardboard']\n"
          ]
        }
      ]
    },
    {
      "cell_type": "markdown",
      "metadata": {
        "id": "piaQxNKNU1iK"
      },
      "source": [
        "### Frequency Distribution"
      ]
    },
    {
      "cell_type": "code",
      "metadata": {
        "id": "1eeQxpDbUlgY",
        "colab": {
          "base_uri": "https://localhost:8080/"
        },
        "outputId": "a1756a0b-72a0-44bc-b860-9e58a4a3c65e"
      },
      "source": [
        "fdist = FreqDist(tokenized_word)\n",
        "print(fdist)"
      ],
      "execution_count": null,
      "outputs": [
        {
          "output_type": "stream",
          "name": "stdout",
          "text": [
            "<FreqDist with 25 samples and 30 outcomes>\n"
          ]
        }
      ]
    },
    {
      "cell_type": "code",
      "metadata": {
        "id": "qSb_NDcQtZyk",
        "colab": {
          "base_uri": "https://localhost:8080/"
        },
        "outputId": "5a4f9872-1265-4e1c-c1f9-535b520514d9"
      },
      "source": [
        "fdist"
      ],
      "execution_count": null,
      "outputs": [
        {
          "output_type": "execute_result",
          "data": {
            "text/plain": [
              "FreqDist({',': 2,\n",
              "          '.': 2,\n",
              "          '?': 1,\n",
              "          'Hello': 1,\n",
              "          'Mr.': 1,\n",
              "          'Smith': 1,\n",
              "          'The': 2,\n",
              "          'You': 1,\n",
              "          'and': 1,\n",
              "          'are': 1,\n",
              "          'awesome': 1,\n",
              "          'cardboard': 1,\n",
              "          'city': 1,\n",
              "          'doing': 1,\n",
              "          'eat': 1,\n",
              "          'great': 1,\n",
              "          'how': 1,\n",
              "          'is': 3,\n",
              "          \"n't\": 1,\n",
              "          'pinkish-blue': 1,\n",
              "          'should': 1,\n",
              "          'sky': 1,\n",
              "          'today': 1,\n",
              "          'weather': 1,\n",
              "          'you': 1})"
            ]
          },
          "metadata": {},
          "execution_count": 7
        }
      ]
    },
    {
      "cell_type": "code",
      "metadata": {
        "id": "daJrFuZ1VL97",
        "colab": {
          "base_uri": "https://localhost:8080/"
        },
        "outputId": "a4194941-86b8-40cd-db56-9930b2ed9421"
      },
      "source": [
        "fdist.most_common(5)"
      ],
      "execution_count": null,
      "outputs": [
        {
          "output_type": "execute_result",
          "data": {
            "text/plain": [
              "[('is', 3), (',', 2), ('The', 2), ('.', 2), ('Hello', 1)]"
            ]
          },
          "metadata": {},
          "execution_count": 8
        }
      ]
    },
    {
      "cell_type": "code",
      "metadata": {
        "id": "TVWsTFL4VSwB",
        "colab": {
          "base_uri": "https://localhost:8080/",
          "height": 330
        },
        "outputId": "eac44016-04ad-40df-84ac-79cc6cc92588"
      },
      "source": [
        "fdist.plot(30, cumulative=False)\n",
        "plt.show()"
      ],
      "execution_count": null,
      "outputs": [
        {
          "output_type": "display_data",
          "data": {
            "text/plain": [
              "<Figure size 432x288 with 1 Axes>"
            ],
            "image/png": "[encoded data removed]"
          },
          "metadata": {
            "needs_background": "light"
          }
        }
      ]
    },
    {
      "cell_type": "markdown",
      "metadata": {
        "id": "p7FppDhwVx_d"
      },
      "source": [
        "### Stopwords"
      ]
    },
    {
      "cell_type": "code",
      "metadata": {
        "id": "9miqaLILVjKz",
        "colab": {
          "base_uri": "https://localhost:8080/"
        },
        "outputId": "fe9e5ad5-6bad-46fa-f21c-1a6fa76947d7"
      },
      "source": [
        "stop_words = set(stopwords.words(\"english\"))\n",
        "\n",
        "print(stop_words)"
      ],
      "execution_count": null,
      "outputs": [
        {
          "output_type": "stream",
          "name": "stdout",
          "text": [
            "{'those', 'his', 'o', 'as', \"wouldn't\", 'yourself', 'hers', 'which', 'so', 'both', 'theirs', 'our', 'the', 'about', 'more', 'shouldn', 'up', 'yourselves', 'm', 'ma', 'hasn', 'having', \"shouldn't\", 'its', 'you', 'these', 'he', 'through', 'other', \"you've\", 'what', \"won't\", 'mustn', 'me', \"it's\", \"couldn't\", \"don't\", \"didn't\", 'wouldn', 'after', 'this', 'they', 'or', 'from', \"wasn't\", 'for', 'here', 'ourselves', 'myself', 'at', 'over', 'had', 'there', 'all', 'few', 'with', 'does', 'didn', 'shan', 'herself', 'll', 'won', 'such', 'them', 'out', 'have', 'no', 'now', 'not', 'are', 'before', 'too', 're', 'aren', 'that', 'was', 'than', 'did', 'doing', 's', 'do', 'on', 'any', \"weren't\", 'then', 'her', 'once', 'against', 'how', 'only', 'same', 'don', 'down', 'should', 'isn', 'we', 'whom', \"hasn't\", 'has', \"doesn't\", 'by', 'ain', \"you'll\", 'am', 'wasn', 'weren', 'ours', 'off', 'y', \"isn't\", 'being', 'nor', 'if', 'were', 'but', 'into', 'above', 'doesn', 'it', 'mightn', 'themselves', 'why', 'haven', \"mustn't\", \"mightn't\", 'below', 'between', 'because', 'where', 'some', 'my', 'while', 'an', 'under', 'him', \"aren't\", 'to', 've', 'during', 'is', 'i', 'own', 'a', 'of', 'further', 'be', 'and', 'your', 'who', 'd', 't', \"you're\", 'in', 'hadn', \"she's\", \"you'd\", \"haven't\", 'their', 'couldn', \"hadn't\", 'yours', \"needn't\", 'himself', 'most', 'each', \"shan't\", 'itself', 'can', 'will', 'just', 'she', 'been', 'very', \"should've\", 'needn', 'until', 'when', \"that'll\", 'again'}\n"
          ]
        }
      ]
    },
    {
      "cell_type": "markdown",
      "source": [
        "**TODO**: A partir da lista de palavras tokenizadas acima, gere uma nova lista de palavras que não contém stop words (use lista  comprehension)"
      ],
      "metadata": {
        "id": "ITwOW8B3ezJ7"
      }
    },
    {
      "cell_type": "code",
      "metadata": {
        "id": "2abEeQF8moH6",
        "colab": {
          "base_uri": "https://localhost:8080/"
        },
        "outputId": "fb8686fc-e2fa-4ee6-d1c1-99e20da9388a"
      },
      "source": [
        "filtered_words = [word for word in tokenized_word if not word in stop_words]\n",
        "\n",
        "print(\"Tokenized Words:\", tokenized_word)\n",
        "print(\"Filterd Sentence:\", filtered_words)"
      ],
      "execution_count": null,
      "outputs": [
        {
          "output_type": "stream",
          "name": "stdout",
          "text": [
            "Tokenized Words: ['Hello', 'Mr.', 'Smith', ',', 'how', 'are', 'you', 'doing', 'today', '?', 'The', 'weather', 'is', 'great', ',', 'and', 'city', 'is', 'awesome', '.', 'The', 'sky', 'is', 'pinkish-blue', '.', 'You', 'should', \"n't\", 'eat', 'cardboard']\n",
            "Filterd Sentence: ['Hello', 'Mr.', 'Smith', ',', 'today', '?', 'The', 'weather', 'great', ',', 'city', 'awesome', '.', 'The', 'sky', 'pinkish-blue', '.', 'You', \"n't\", 'eat', 'cardboard']\n"
          ]
        }
      ]
    },
    {
      "cell_type": "markdown",
      "metadata": {
        "id": "bCVPWBAgoLLn"
      },
      "source": [
        "### Stemming"
      ]
    },
    {
      "cell_type": "markdown",
      "metadata": {
        "id": "uvVgjJh1oRwo"
      },
      "source": [
        "A **Stemming** reduz as palavras aos seus radicais. Por exemplo, as palavras *connection*, *connected*, *connecting* serão reduzidas a \"*connect*\". Há diversos algoritmos de stemming, mas o mais famoso é o `Porter stemming`."
      ]
    },
    {
      "cell_type": "code",
      "metadata": {
        "id": "5BG9nZY_m-xK",
        "colab": {
          "base_uri": "https://localhost:8080/"
        },
        "outputId": "dcfdd60d-30f0-47fb-8eef-90c4a1eb6aca"
      },
      "source": [
        "example_words = ['connection', 'connected', 'connecting']\n",
        "\n",
        "ps = PorterStemmer()\n",
        "\n",
        "stemmed_words = [ps.stem(w) for w in example_words]\n",
        "\n",
        "print(\"Example words:\", example_words)\n",
        "print(\"Stemmed words:\", stemmed_words)"
      ],
      "execution_count": null,
      "outputs": [
        {
          "output_type": "stream",
          "name": "stdout",
          "text": [
            "Example words: ['connection', 'connected', 'connecting']\n",
            "Stemmed words: ['connect', 'connect', 'connect']\n"
          ]
        }
      ]
    },
    {
      "cell_type": "markdown",
      "metadata": {
        "id": "NbHqJ4mBwwtf"
      },
      "source": [
        "O algoritmo `SnowBall` pode faz o processo de stemming em até 13 línguas diferentes:"
      ]
    },
    {
      "cell_type": "code",
      "metadata": {
        "id": "RKehdjzfwoPz",
        "colab": {
          "base_uri": "https://localhost:8080/"
        },
        "outputId": "6b190732-0b6d-4f20-8dd3-00ee2f72e5ec"
      },
      "source": [
        "print(SnowballStemmer.languages)"
      ],
      "execution_count": null,
      "outputs": [
        {
          "output_type": "stream",
          "name": "stdout",
          "text": [
            "('arabic', 'danish', 'dutch', 'english', 'finnish', 'french', 'german', 'hungarian', 'italian', 'norwegian', 'porter', 'portuguese', 'romanian', 'russian', 'spanish', 'swedish')\n"
          ]
        }
      ]
    },
    {
      "cell_type": "markdown",
      "source": [
        "Vamos ver como funciona em português!\n",
        "\n",
        "**TODO:** Crie 4 listas de palavras em português (contendo ao menos 2 palavras cada - preferencialmente 3 ou mais) e, para cada uma das listas, gere uma outra lista com termos equivalentes \"stemizados\". Suas listas originais deve conter palavras que gerem stemings do tipo: verdadeiros positivos, verdadeiros negativos, falsos positivos, falsos negativos."
      ],
      "metadata": {
        "id": "52tj6B2OgbGE"
      }
    },
    {
      "cell_type": "code",
      "metadata": {
        "id": "rKjqElS9xTCv",
        "colab": {
          "base_uri": "https://localhost:8080/"
        },
        "outputId": "9efcb39a-e300-45cd-a9de-ca47b1de9c1c"
      },
      "source": [
        "tp = [\"conectado\", \"conectando\"]\n",
        "tn = [\"carro\", \"carroça\"]\n",
        "fp = [\"redutível\", \"reduto\"]\n",
        "fn = [\"conexão\", \"conexões\"]\n",
        "\n",
        "ss = SnowballStemmer(\"portuguese\")\n",
        "\n",
        "tp_stemmed = [ss.stem(word) for word in tp]\n",
        "tn_stemmed = [ss.stem(word) for word in tn]\n",
        "fp_stemmed = [ss.stem(word) for word in fp]\n",
        "fn_stemmed = [ss.stem(word) for word in fn]\n",
        "\n",
        "print('TP Stemmed:', tp_stemmed)\n",
        "print('TN Stemmed:', tn_stemmed)\n",
        "print('FP Stemmed:', fp_stemmed)\n",
        "print('FN Stemmed:', fn_stemmed)"
      ],
      "execution_count": null,
      "outputs": [
        {
          "output_type": "stream",
          "name": "stdout",
          "text": [
            "TP Stemmed: ['conect', 'conect']\n",
            "TN Stemmed: ['carr', 'carroc']\n",
            "FP Stemmed: ['redut', 'redut']\n",
            "FN Stemmed: ['conexã', 'conexõ']\n"
          ]
        }
      ]
    },
    {
      "cell_type": "markdown",
      "metadata": {
        "id": "2v-4jMBmyj35"
      },
      "source": [
        "### Lemmatization"
      ]
    },
    {
      "cell_type": "code",
      "metadata": {
        "id": "fGa59T4DyjfX",
        "colab": {
          "base_uri": "https://localhost:8080/"
        },
        "outputId": "4f49e47a-7324-45a3-c994-a1a32080d6a2"
      },
      "source": [
        "stemmer = PorterStemmer()\n",
        "lemmatizer = WordNetLemmatizer( )\n",
        "for item in ['am' ,'are' ,'is','was','were']:\n",
        "    print(stemmer.stem(item),end='\\t')"
      ],
      "execution_count": null,
      "outputs": [
        {
          "output_type": "stream",
          "name": "stdout",
          "text": [
            "am\tare\tis\twa\twere\t"
          ]
        }
      ]
    },
    {
      "cell_type": "code",
      "source": [
        "lemmatizer = WordNetLemmatizer( )\n",
        "for item in ['am' ,'are' ,'is','was','were']:\n",
        "    print(lemmatizer.lemmatize(item),end='\\t')"
      ],
      "metadata": {
        "id": "nJ8C2Ib6owRK",
        "colab": {
          "base_uri": "https://localhost:8080/"
        },
        "outputId": "bb5c6c70-c385-4d36-ae7a-787ea640bdee"
      },
      "execution_count": null,
      "outputs": [
        {
          "output_type": "stream",
          "name": "stdout",
          "text": [
            "am\tare\tis\twa\twere\t"
          ]
        }
      ]
    },
    {
      "cell_type": "markdown",
      "source": [
        "Esperava uma resposta diferente acima? Esperava que as saídas fossem todas \"be\" ?\n",
        "\n",
        "Esse problema acontece porque o lamatizador não sabe que estamos tratando de um verbo!"
      ],
      "metadata": {
        "id": "HooZTWn9oz2D"
      }
    },
    {
      "cell_type": "markdown",
      "source": [
        "**TODO:** Faça um código equivalente ao anterior, porém, passando o valor 'v' (Verbo) no parâmetro `pos` (Part-Of-Spreech).  "
      ],
      "metadata": {
        "id": "HOjsYADlpbJR"
      }
    },
    {
      "cell_type": "code",
      "metadata": {
        "id": "z2t99kdF0Odw",
        "colab": {
          "base_uri": "https://localhost:8080/"
        },
        "outputId": "b83ff396-0c5e-447a-a6f1-eaaaa14517f4"
      },
      "source": [
        "#seu código aqui\n",
        "lemmatizer = WordNetLemmatizer( )\n",
        "for item in ['am' ,'are' ,'is','was','were']:\n",
        "    print(lemmatizer.lemmatize(item, pos='v'),end='\\t')"
      ],
      "execution_count": null,
      "outputs": [
        {
          "output_type": "stream",
          "name": "stdout",
          "text": [
            "be\tbe\tbe\tbe\tbe\t"
          ]
        }
      ]
    },
    {
      "cell_type": "markdown",
      "source": [
        "**TODO:** Agora faça um código equivalente ao anterior, porém, passando a constante wordnet.VERB no parâmetro `pos` (Part-Of-Spreech).  "
      ],
      "metadata": {
        "id": "yejCxHZHp4UF"
      }
    },
    {
      "cell_type": "code",
      "source": [
        "#seu código aqui\n",
        "lemmatizer = WordNetLemmatizer( )\n",
        "for item in ['am' ,'are' ,'is','was','were']:\n",
        "    print(lemmatizer.lemmatize(item, pos=wordnet.VERB),end='\\t')"
      ],
      "metadata": {
        "id": "Cz7jRYQ-oMhO",
        "colab": {
          "base_uri": "https://localhost:8080/"
        },
        "outputId": "2123039d-b8c8-4d94-89fb-4948bdc08e77"
      },
      "execution_count": null,
      "outputs": [
        {
          "output_type": "stream",
          "name": "stdout",
          "text": [
            "be\tbe\tbe\tbe\tbe\t"
          ]
        }
      ]
    },
    {
      "cell_type": "markdown",
      "metadata": {
        "id": "0X2KHx2JqX18"
      },
      "source": [
        "### POS Tagging"
      ]
    },
    {
      "cell_type": "markdown",
      "source": [
        "Conjunto de Tags Baseado no [Penn Treebank Tag Set](https://www.ling.upenn.edu/courses/Fall_2003/ling001/penn_treebank_pos.html)"
      ],
      "metadata": {
        "id": "oPUnW1TmKxVS"
      }
    },
    {
      "cell_type": "code",
      "metadata": {
        "id": "ZcoQOxHepioT",
        "colab": {
          "base_uri": "https://localhost:8080/"
        },
        "outputId": "0a90d820-ccc5-4cd5-a684-4b3cafda232c"
      },
      "source": [
        "sent = \"Albert Einstein was born in Ulm, Germany in 1879.\"\n",
        "\n",
        "tokens = nltk.word_tokenize(sent)\n",
        "print('Sentence:', tokens)\n",
        "print(nltk.pos_tag(tokens))"
      ],
      "execution_count": null,
      "outputs": [
        {
          "output_type": "stream",
          "name": "stdout",
          "text": [
            "Sentence: ['Albert', 'Einstein', 'was', 'born', 'in', 'Ulm', ',', 'Germany', 'in', '1879', '.']\n",
            "[('Albert', 'NNP'), ('Einstein', 'NNP'), ('was', 'VBD'), ('born', 'VBN'), ('in', 'IN'), ('Ulm', 'NNP'), (',', ','), ('Germany', 'NNP'), ('in', 'IN'), ('1879', 'CD'), ('.', '.')]\n"
          ]
        }
      ]
    },
    {
      "cell_type": "markdown",
      "source": [
        "**TODO:** Formule uma frase (mesmo que não faça sentido) de forma que o POS Tagger classifique 'Albert' como verbo."
      ],
      "metadata": {
        "id": "IK54GFOjq9KV"
      }
    },
    {
      "cell_type": "code",
      "source": [
        "sent = \"I Albert apple\"\n",
        "\n",
        "tokens = nltk.word_tokenize(sent)\n",
        "print('Sentence:', tokens)\n",
        "print(nltk.pos_tag(tokens))"
      ],
      "metadata": {
        "id": "FiGmo31Yqoc-",
        "colab": {
          "base_uri": "https://localhost:8080/"
        },
        "outputId": "810e87d1-f120-4b4e-9c33-456a7484d906"
      },
      "execution_count": null,
      "outputs": [
        {
          "output_type": "stream",
          "name": "stdout",
          "text": [
            "Sentence: ['I', 'Albert', 'apple']\n",
            "[('I', 'PRP'), ('Albert', 'VBP'), ('apple', 'NN')]\n"
          ]
        }
      ]
    },
    {
      "cell_type": "markdown",
      "source": [
        "**TODO:** Agora formule duas sentenças (que façam sentido) onde a mesma palavra é classificada de uma forma na sentença 1 e de outra forma na sentença 2."
      ],
      "metadata": {
        "id": "LaQbBRBMsF_g"
      }
    },
    {
      "cell_type": "code",
      "source": [
        "sents = ['I did study today', 'Did i study today?']\n",
        "\n",
        "for sent in sents:\n",
        "  tokens = nltk.word_tokenize(sent)\n",
        "  print('Sentence:', tokens)\n",
        "  print(nltk.pos_tag(tokens))"
      ],
      "metadata": {
        "id": "9zLgX7jCLcPN",
        "colab": {
          "base_uri": "https://localhost:8080/"
        },
        "outputId": "6c578bdb-1510-43f7-956a-b6c0e1221c32"
      },
      "execution_count": null,
      "outputs": [
        {
          "output_type": "stream",
          "name": "stdout",
          "text": [
            "Sentence: ['I', 'did', 'study', 'today']\n",
            "[('I', 'PRP'), ('did', 'VBD'), ('study', 'VB'), ('today', 'NN')]\n",
            "Sentence: ['Did', 'i', 'study', 'today', '?']\n",
            "[('Did', 'NNP'), ('i', 'NN'), ('study', 'NN'), ('today', 'NN'), ('?', '.')]\n"
          ]
        }
      ]
    },
    {
      "cell_type": "markdown",
      "source": [
        "### Lemmatization com POS-Tagging\n",
        "\n",
        "Vamos automatizar o processo de lematização: vamos detectar a POS-TAG com nltk.pos_tag e então passá-la para o wordnet lemmatizer."
      ],
      "metadata": {
        "id": "bm_U2fHYtfoG"
      }
    },
    {
      "cell_type": "code",
      "source": [
        "# seu código aqui\n",
        "\n",
        "# Esta atividade eh mais demorada. Se preferir, pula-a e depois volte para fazer."
      ],
      "metadata": {
        "id": "jryky1nwuzHW"
      },
      "execution_count": null,
      "outputs": []
    },
    {
      "cell_type": "markdown",
      "source": [
        "## Outras Bibliotecas\n",
        "\n",
        "Vamos conhecer outras libs que nos ajudam nesse tipo de tarefa"
      ],
      "metadata": {
        "id": "wNV1AtI_h0MI"
      }
    },
    {
      "cell_type": "markdown",
      "source": [
        "### Lematização usando [Stanza](https://stanfordnlp.github.io/stanza/)"
      ],
      "metadata": {
        "id": "_DhUQkZ0hExT"
      }
    },
    {
      "cell_type": "code",
      "source": [
        "pip install stanza"
      ],
      "metadata": {
        "id": "jb0YxceIg62A",
        "colab": {
          "base_uri": "https://localhost:8080/"
        },
        "outputId": "e71456db-dd71-47fc-addb-005ee471347c"
      },
      "execution_count": null,
      "outputs": [
        {
          "output_type": "stream",
          "name": "stdout",
          "text": [
            "Looking in indexes: https://pypi.org/simple, https://us-python.pkg.dev/colab-wheels/public/simple/\n",
            "Collecting stanza\n",
            "  Downloading stanza-1.4.0-py3-none-any.whl (574 kB)\n",
            "\u001b[K     |████████████████████████████████| 574 kB 14.3 MB/s \n",
            "\u001b[?25hRequirement already satisfied: six in /usr/local/lib/python3.7/dist-packages (from stanza) (1.15.0)\n",
            "Requirement already satisfied: numpy in /usr/local/lib/python3.7/dist-packages (from stanza) (1.21.6)\n",
            "Collecting transformers\n",
            "  Downloading transformers-4.20.1-py3-none-any.whl (4.4 MB)\n",
            "\u001b[K     |████████████████████████████████| 4.4 MB 58.1 MB/s \n",
            "\u001b[?25hRequirement already satisfied: torch>=1.3.0 in /usr/local/lib/python3.7/dist-packages (from stanza) (1.11.0+cu113)\n",
            "Collecting emoji\n",
            "  Downloading emoji-1.7.0.tar.gz (175 kB)\n",
            "\u001b[K     |████████████████████████████████| 175 kB 90.7 MB/s \n",
            "\u001b[?25hRequirement already satisfied: tqdm in /usr/local/lib/python3.7/dist-packages (from stanza) (4.64.0)\n",
            "Requirement already satisfied: requests in /usr/local/lib/python3.7/dist-packages (from stanza) (2.23.0)\n",
            "Requirement already satisfied: protobuf in /usr/local/lib/python3.7/dist-packages (from stanza) (3.17.3)\n",
            "Requirement already satisfied: typing-extensions in /usr/local/lib/python3.7/dist-packages (from torch>=1.3.0->stanza) (4.1.1)\n",
            "Requirement already satisfied: chardet<4,>=3.0.2 in /usr/local/lib/python3.7/dist-packages (from requests->stanza) (3.0.4)\n",
            "Requirement already satisfied: certifi>=2017.4.17 in /usr/local/lib/python3.7/dist-packages (from requests->stanza) (2022.6.15)\n",
            "Requirement already satisfied: idna<3,>=2.5 in /usr/local/lib/python3.7/dist-packages (from requests->stanza) (2.10)\n",
            "Requirement already satisfied: urllib3!=1.25.0,!=1.25.1,<1.26,>=1.21.1 in /usr/local/lib/python3.7/dist-packages (from requests->stanza) (1.24.3)\n",
            "Collecting tokenizers!=0.11.3,<0.13,>=0.11.1\n",
            "  Downloading tokenizers-0.12.1-cp37-cp37m-manylinux_2_12_x86_64.manylinux2010_x86_64.whl (6.6 MB)\n",
            "\u001b[K     |████████████████████████████████| 6.6 MB 46.4 MB/s \n",
            "\u001b[?25hRequirement already satisfied: filelock in /usr/local/lib/python3.7/dist-packages (from transformers->stanza) (3.7.1)\n",
            "Requirement already satisfied: regex!=2019.12.17 in /usr/local/lib/python3.7/dist-packages (from transformers->stanza) (2022.6.2)\n",
            "Requirement already satisfied: packaging>=20.0 in /usr/local/lib/python3.7/dist-packages (from transformers->stanza) (21.3)\n",
            "Collecting huggingface-hub<1.0,>=0.1.0\n",
            "  Downloading huggingface_hub-0.8.1-py3-none-any.whl (101 kB)\n",
            "\u001b[K     |████████████████████████████████| 101 kB 10.1 MB/s \n",
            "\u001b[?25hRequirement already satisfied: importlib-metadata in /usr/local/lib/python3.7/dist-packages (from transformers->stanza) (4.11.4)\n",
            "Collecting pyyaml>=5.1\n",
            "  Downloading PyYAML-6.0-cp37-cp37m-manylinux_2_5_x86_64.manylinux1_x86_64.manylinux_2_12_x86_64.manylinux2010_x86_64.whl (596 kB)\n",
            "\u001b[K     |████████████████████████████████| 596 kB 41.0 MB/s \n",
            "\u001b[?25hRequirement already satisfied: pyparsing!=3.0.5,>=2.0.2 in /usr/local/lib/python3.7/dist-packages (from packaging>=20.0->transformers->stanza) (3.0.9)\n",
            "Requirement already satisfied: zipp>=0.5 in /usr/local/lib/python3.7/dist-packages (from importlib-metadata->transformers->stanza) (3.8.0)\n",
            "Building wheels for collected packages: emoji\n",
            "  Building wheel for emoji (setup.py) ... \u001b[?25l\u001b[?25hdone\n",
            "  Created wheel for emoji: filename=emoji-1.7.0-py3-none-any.whl size=171046 sha256=60251d955f1cbd1ea15c4e604701af2f7cf28555d9de47dbb235dd7e7170de00\n",
            "  Stored in directory: /root/.cache/pip/wheels/8a/4e/b6/57b01db010d17ef6ea9b40300af725ef3e210cb1acfb7ac8b6\n",
            "Successfully built emoji\n",
            "Installing collected packages: pyyaml, tokenizers, huggingface-hub, transformers, emoji, stanza\n",
            "  Attempting uninstall: pyyaml\n",
            "    Found existing installation: PyYAML 3.13\n",
            "    Uninstalling PyYAML-3.13:\n",
            "      Successfully uninstalled PyYAML-3.13\n",
            "Successfully installed emoji-1.7.0 huggingface-hub-0.8.1 pyyaml-6.0 stanza-1.4.0 tokenizers-0.12.1 transformers-4.20.1\n"
          ]
        }
      ]
    },
    {
      "cell_type": "markdown",
      "source": [
        "**TODO:** complete o código abaixo"
      ],
      "metadata": {
        "id": "kVWa_S8emw_S"
      }
    },
    {
      "cell_type": "code",
      "source": [
        "import stanza\n",
        "nlp = stanza.Pipeline(lang='en', processors='tokenize,pos,lemma')\n",
        "\n",
        "# Seu código aqui\n",
        "# Substitua a string vazia por uma sequencia de termos separados por espaço)\n",
        "text = \"I'm very busy.\"\n",
        "doc = nlp(text)\n",
        "\n",
        "# Seu código aqui\n",
        "# Imprima lado a lado os termos com seus repectivos lemas\n",
        "# Em uma única expressão usando list comprehension, gere o lemas para os termos acima, manipulando doc.sentences, doc.sentences.words\n",
        "# O texto e o lema podem ser obtidos com .word e .lemma em cada item (cada word em doc.sentences.words))\n",
        "\n",
        "words = [word.words for word in doc.sentences][0]\n",
        "[print(word.text,\"-\" ,word.lemma) for word in words]"
      ],
      "metadata": {
        "id": "VDo9OWUSgZyb",
        "colab": {
          "base_uri": "https://localhost:8080/",
          "height": 396,
          "referenced_widgets": [
            "f52e89671bc344c99dd2babcf8daecad",
            "281d003f38c14f76886705ebadfe009d",
            "4ddc71a15c734fb0910d72ade17eb745",
            "01db30582579461980f65a00890c28f1",
            "8a08c885ec9f4e609a20ca45708dea77",
            "4f4cf0113fce4a45b30cc56210165322",
            "2d156df7b2f04c039efd4f150408d51c",
            "acb7972a83554acea68fb716accc0983",
            "0d1d8074cce64e53b42a31652e8af92c",
            "fb214e0df9eb4d97855078b69695fe95",
            "91391d725d2645e986fc782666a3952d"
          ]
        },
        "outputId": "00689c03-3466-4c2b-e984-8835ebaa7f67"
      },
      "execution_count": null,
      "outputs": [
        {
          "output_type": "display_data",
          "data": {
            "text/plain": [
              "Downloading https://raw.githubusercontent.com/stanfordnlp/stanza-resources/main/resources_1.4.0.json:   0%|   …"
            ],
            "application/vnd.jupyter.widget-view+json": {
              "version_major": 2,
              "version_minor": 0,
              "model_id": "f52e89671bc344c99dd2babcf8daecad"
            }
          },
          "metadata": {}
        },
        {
          "output_type": "stream",
          "name": "stderr",
          "text": [
            "2022-06-30 22:39:40 INFO: Loading these models for language: en (English):\n",
            "========================\n",
            "| Processor | Package  |\n",
            "------------------------\n",
            "| tokenize  | combined |\n",
            "| pos       | combined |\n",
            "| lemma     | combined |\n",
            "========================\n",
            "\n",
            "2022-06-30 22:39:40 INFO: Use device: cpu\n",
            "2022-06-30 22:39:40 INFO: Loading: tokenize\n",
            "2022-06-30 22:39:40 INFO: Loading: pos\n",
            "2022-06-30 22:39:40 INFO: Loading: lemma\n",
            "2022-06-30 22:39:40 INFO: Done loading processors!\n"
          ]
        },
        {
          "output_type": "stream",
          "name": "stdout",
          "text": [
            "I - I\n",
            "'m - be\n",
            "very - very\n",
            "busy - busy\n",
            ". - .\n"
          ]
        },
        {
          "output_type": "execute_result",
          "data": {
            "text/plain": [
              "[None, None, None, None, None]"
            ]
          },
          "metadata": {},
          "execution_count": 84
        }
      ]
    },
    {
      "cell_type": "markdown",
      "source": [
        "### Lematização usando [Spacy](https://spacy.io) - [lemminflect](https://spacy.io/universe/project/lemminflect/)"
      ],
      "metadata": {
        "id": "vIyPvAGsfwL8"
      }
    },
    {
      "cell_type": "code",
      "source": [
        "!pip install lemminflect"
      ],
      "metadata": {
        "id": "e6pePqLRfCku",
        "colab": {
          "base_uri": "https://localhost:8080/"
        },
        "outputId": "1a66f0ae-b4fb-45c2-ae71-771178059e35"
      },
      "execution_count": null,
      "outputs": [
        {
          "output_type": "stream",
          "name": "stdout",
          "text": [
            "Looking in indexes: https://pypi.org/simple, https://us-python.pkg.dev/colab-wheels/public/simple/\n",
            "Collecting lemminflect\n",
            "  Downloading lemminflect-0.2.2-py3-none-any.whl (769 kB)\n",
            "\u001b[K     |████████████████████████████████| 769 kB 28.6 MB/s \n",
            "\u001b[?25hRequirement already satisfied: numpy in /usr/local/lib/python3.7/dist-packages (from lemminflect) (1.21.6)\n",
            "Installing collected packages: lemminflect\n",
            "Successfully installed lemminflect-0.2.2\n"
          ]
        }
      ]
    },
    {
      "cell_type": "markdown",
      "source": [
        "**TODO:** Complete o código"
      ],
      "metadata": {
        "id": "Yj3ifu-kqFTO"
      }
    },
    {
      "cell_type": "code",
      "source": [
        "import spacy\n",
        "import lemminflect\n",
        "\n",
        "nlp = spacy.load('en_core_web_sm')\n",
        "doc = nlp(\"I'm very busy.\") # seu código aqui (similar ao anterior)\n",
        "\n",
        "# aqui podemos iterar em 'doc'\n",
        "print(f\"{'Text':{8}} | {'Lemma':{6}}\\n\")\n",
        "for token in doc:\n",
        "    print(f\"{token.text:{8}} , {token._.lemma()}\" ) # seu código aqui (complete o código para montar a tabela)\n"
      ],
      "metadata": {
        "id": "1tHHf-n34yVN",
        "colab": {
          "base_uri": "https://localhost:8080/"
        },
        "outputId": "f165f537-2ced-4908-882d-742903e25baa"
      },
      "execution_count": null,
      "outputs": [
        {
          "output_type": "stream",
          "name": "stdout",
          "text": [
            "Text     | Lemma \n",
            "\n",
            "I        , I\n",
            "'m       , be\n",
            "very     , very\n",
            "busy     , busy\n",
            ".        , .\n"
          ]
        }
      ]
    }
  ]
}