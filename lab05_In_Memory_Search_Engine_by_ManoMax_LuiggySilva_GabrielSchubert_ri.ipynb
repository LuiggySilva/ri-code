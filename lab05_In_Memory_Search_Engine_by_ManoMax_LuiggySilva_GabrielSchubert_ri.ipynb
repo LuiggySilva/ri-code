{
  "nbformat": 4,
  "nbformat_minor": 0,
  "metadata": {
    "colab": {
      "name": "RI_LAB05_In_Memory_Search_Engine_by_ManoMax_LuiggySilva_GabrielSchubert.ipynb",
      "provenance": [],
      "collapsed_sections": []
    },
    "kernelspec": {
      "name": "python3",
      "display_name": "Python 3"
    },
    "language_info": {
      "name": "python"
    }
  },
  "cells": [
    {
      "cell_type": "markdown",
      "source": [
        "# In-Memory Search Engine\n",
        "\n",
        "Hoje vamos implementar um pequeno motor de busca para exercitar os principais conceitos vistos na disciplina até o momento. Na próxima aula iremos discutir/avaliar/comparar as soluções apresentadas pelos grupos.\n",
        "\n",
        "**INSTRUÇÕES**\n",
        "\n",
        "Esta atividade deve ser feita em grupos de 2 ou 3 alunos. Apenas 1 aluno precisa enviar o link do google colab pelo formulário. No formulário há campos para informar os nomes dos demais membros do grupo.\n",
        "\n",
        "Cuidado: verifique se a opção de compartilhamento está no formato \"todos com o link podem acessar\". Caso não esteja compartilhado corretamente, a submissão será ignorada. ATENÇÃO: a última edição do arquivo deve ser antes do prazo de entrega.\n",
        "\n",
        "**DESCRIÇÃO**\n",
        "\n",
        "O motor de busca deverá ser capaz de ler os dados de um arquivo CSV com 2 colunas:\n",
        "\n",
        "* id: o ID do documento (número inteiro)\n",
        "* texto: o texto do documento\n",
        "\n",
        "Como a intenção é fazer um motor de busca bem simples, o índice é mantido 100% em memória, na estrutura que julgarem mais adequada. Também não iremos nos preocupar com compressão de índice para economizar memória.\n",
        "\n",
        "Os textos dos documentos devem passar por um pré-processamento antes de serem indexados.\n",
        "\n",
        "A estratégia rankeamento deve ser baseada em TF e IDF.\n",
        "\n",
        "O buscador não precisa fazer busca tolerante.\n",
        "\n",
        "Há uma classe python pré-definida que deve existir, onde você deve criar os métodos. Porém, se quiser criar outras classes para serem usadas pela classe principal, não há problema.\n",
        "\n",
        "\n",
        "\n",
        "\n",
        "\n",
        "\n",
        "\n",
        "\n",
        "\n"
      ],
      "metadata": {
        "id": "CugML9k_czi_"
      }
    },
    {
      "cell_type": "markdown",
      "source": [
        "# CSV utilizado para testes:"
      ],
      "metadata": {
        "id": "DUxPRCsBfas0"
      }
    },
    {
      "cell_type": "markdown",
      "source": [
        "id,texto\n",
        "\n",
        "1,\"These are short, famous texts in English from classic sources like the Bible or Shakespeare. Some texts have word definitions and explanations to help you. Some of these texts are written in an old style of English. Try to understand them, because the English that we speak today is based on what our great, great, great, great grandparents spoke before! Of course, not all these texts were originally written in English. The Bible, for example, is a translation. But they are all well known in English today, and many of them express beautiful thoughts.\"\n",
        "\n",
        "2,\"I live in a house near the mountains. I have two brothers and one sister, and I was born last. My father teaches mathematics, and my mother is a nurse at a big hospital. My brothers are very smart and work hard in school. My sister is a nervous girl, but she is very kind. My grandmother also lives with us. She came from Italy when I was two years old. She has grown old, but she is still very strong. She cooks the best food! My family is very important to me. We do lots of things together. My brothers and I like to go on long walks in the mountains. My sister likes to cook with my grandmother. On the weekends we all play board games together fun. We laugh and always have a good time. I love my family very much.\"\n",
        "\n",
        "3,\"Jack was hungry. He walked to the kitchen. He got out some eggs. He took out some oil. He placed a skillet on the stove. Next, he turned on the heat. He poured the oil into the skillet. He cracked the eggs into a bowl. He stirred the eggs. Then, he poured them into the hot skillet. He waited while the eggs cooked. They cooked for two minutes. He heard them cooking. They popped in the oil. Next, Jack put the eggs on a plate. He placed the plate on the dining room table. Jack loved looking at his eggs. They looked pretty on the white plate. He sat down in the large wooden chair. He thought about the day ahead. He ate the eggs with a spoon. They were good. He washed the plate with dishwashing soap. Then, he washed the pan. He got a sponge damp. Finally, he wiped down the table. Next, Jack watched TV fun.\"\n",
        "\n",
        "4,\"Every year we go to Florida. We like to go to the beach. My favorite beach is called Emerson Beach. It is very long, with soft sand and palm trees. It is very beautiful. I like to make sandcastles and watch the sailboats go by. Sometimes there are dolphins and whales in the water! Every morning we look for shells in the sand. I found fifteen big shells last year. I put them in a special place in my room. This year I want to learn to surf. It is hard to surf, but so much fun fun fun! My sister is a good surfer. She says that she can teach me. I hope I can do it!\"\n",
        "\n",
        "5,\"Lucas goes to school every day of the week. He has many subjects to go to each school day: English, art, science, mathematics, gym, and history. His mother packs a big backpack full of books and lunch for Lucas. His first class is English, and he likes that teacher very much. His English teacher says that he is a good pupil, which Lucas knows means that she thinks he is a good student. His next class is art. He draws on paper with crayons and pencils and sometimes uses a ruler. Lucas likes art. It is his favorite class. His third class is science. This class is very hard for Lucas to figure out, but he gets to work with his classmates a lot, which he likes to do. His friend, Kyle, works with Lucas in science class, and they have fun fun.\""
      ],
      "metadata": {
        "id": "BDe17hvl-NFe"
      }
    },
    {
      "cell_type": "markdown",
      "source": [
        "# Implementação"
      ],
      "metadata": {
        "id": "7bNrQnzvthe8"
      }
    },
    {
      "cell_type": "markdown",
      "source": [
        "### Importando as Bibliotecas"
      ],
      "metadata": {
        "id": "JKGasXUzfnv-"
      }
    },
    {
      "cell_type": "code",
      "source": [
        "import pandas as pd\n",
        "import itertools\n",
        "import functools\n",
        "import nltk\n",
        "from nltk.stem import PorterStemmer\n",
        "from nltk.corpus import stopwords \n",
        "\n",
        "nltk.download('stopwords')"
      ],
      "metadata": {
        "id": "33ykJb4tyzfq",
        "colab": {
          "base_uri": "https://localhost:8080/"
        },
        "outputId": "95c8ddc1-abb8-4053-8378-8feee900d5e1"
      },
      "execution_count": 33,
      "outputs": [
        {
          "output_type": "stream",
          "name": "stderr",
          "text": [
            "[nltk_data] Downloading package stopwords to /root/nltk_data...\n",
            "[nltk_data]   Package stopwords is already up-to-date!\n"
          ]
        },
        {
          "output_type": "execute_result",
          "data": {
            "text/plain": [
              "True"
            ]
          },
          "metadata": {},
          "execution_count": 33
        }
      ]
    },
    {
      "cell_type": "markdown",
      "source": [
        "### Criando Classe em Memória com os principais métodos de pré-processamento, busca e rankeamento:"
      ],
      "metadata": {
        "id": "2GZTiHVIfqZD"
      }
    },
    {
      "cell_type": "code",
      "source": [
        "class InMemSearchEngine():\n",
        "\t# Setando nltk.corpus para gramática inglesa (stopwords)\n",
        "\tdef __init__(self, path_corpus_file):\n",
        "\t\tself.path_to_corpus_file = path_corpus_file\n",
        "\t\tself.raw_corpus = pd.read_csv(self.path_to_corpus_file, index_col=0, squeeze=True).to_dict()\n",
        "\t\tself.corpus = dict()\n",
        "\t\tself.english_stop_words = set(stopwords.words(\"english\"))\n",
        "\t\tself.init_corpus()\n",
        "\n",
        "\t# Indicação de posição sobre cada palavra\n",
        "\tdef init_corpus(self):\n",
        "\t\tfor id, texto in self.raw_corpus.items():\n",
        "\t\t\tinverted_doc = self.inverted_index(texto)\n",
        "\t\t\tself.inverted_index_add(self.corpus, id, inverted_doc)\n",
        "\n",
        "\t# Separação dos textos por palavras\n",
        "\tdef word_split(self, text):\n",
        "\t\tword_list = []\n",
        "\t\twcurrent = []\n",
        "\t\twindex = None\n",
        "\t\tfor i, c in enumerate(text):\n",
        "\t\t\tif c.isalnum():\n",
        "\t\t\t\twcurrent.append(c)\n",
        "\t\t\t\twindex = i\n",
        "\t\t\telif wcurrent:\n",
        "\t\t\t\tword = u''.join(wcurrent)\n",
        "\t\t\t\tword_list.append((windex - len(word) + 1, word))\n",
        "\t\t\t\twcurrent = []\n",
        "\t\tif wcurrent:\n",
        "\t\t\tword = u''.join(wcurrent)\n",
        "\t\t\tword_list.append((windex - len(word) + 1, word))\n",
        "\t\treturn word_list\n",
        "\n",
        "\t# Filtragem das palavras mais relevantes dos textos, a partir dos stopwords\n",
        "\tdef words_cleanup(self, words):\n",
        "\t\tcleaned_words = []\n",
        "\t\tfor index, word in words:\n",
        "\t\t\tif len(word) < 1 or word in self.english_stop_words:\n",
        "\t\t\t\tcontinue\n",
        "\t\t\tcleaned_words.append((index, word))\n",
        "\t\treturn cleaned_words\n",
        "\n",
        "\t# Normalização das palavras, para facilitar buscas\n",
        "\tdef words_normalize(self, words):\n",
        "\t\tnormalized_words = []\n",
        "\t\tfor index, word in words:\n",
        "\t\t\twnormalized = word.lower()\n",
        "\t\t\tnormalized_words.append((index, wnormalized))\n",
        "\t\treturn normalized_words\n",
        "\t\n",
        "\t# Aplicação de Stemmer, separação, normalização e filtragem de palavras nos textos\n",
        "\tdef word_index(self, text):\n",
        "\t\tps = PorterStemmer()\n",
        "\t\twords = self.word_split(text)\n",
        "\t\twords = [(pos, ps.stem(word)) for pos, word in words]\n",
        "\t\twords = self.words_normalize(words)\n",
        "\t\twords = self.words_cleanup(words)\n",
        "\t\treturn words\n",
        "\n",
        "\t# Cria um indice invertido para as palavras de um documento\n",
        "\tdef inverted_index(self, text):\n",
        "\t\tinverted = {}\n",
        "\t\tfor index, word in self.word_index(text):\n",
        "\t\t\tlocations = inverted.setdefault(word, [])\n",
        "\t\t\tlocations.append(index)\n",
        "\t\treturn inverted\n",
        "\n",
        "\t# Mescla o indice invertido de varios documentos\n",
        "\tdef inverted_index_add(self, inverted, doc_id, doc_index):\n",
        "\t\tfor word, locations in doc_index.items():\n",
        "\t\t\tindices = inverted.setdefault(word, {})\n",
        "\t\t\tindices[doc_id] = locations\n",
        "\t\treturn inverted\n",
        "\n",
        "\t# Ordenação e listagem de Rankeamento\n",
        "\tdef rank(self, words, docs):\n",
        "\t\tif (len(docs) <= 1):\n",
        "\t\t\treturn list(docs)\n",
        "\n",
        "\t\tdef rank_sort(words):\t\n",
        "\t\t\tdef rank_sort_func(doc1, doc2):\t\n",
        "\t\t\t\tdoc1_aux = 0\n",
        "\t\t\t\tdoc2_aux = 0\n",
        "\t\t\t\tfor word in words:\n",
        "\t\t\t\t\tif (doc1 not in self.corpus[word]):\n",
        "\t\t\t\t\t\tif doc2 in self.corpus[word]:\n",
        "\t\t\t\t\t\t\tdoc2_aux += 1\n",
        "\t\t\t\t\telif (doc2 not in self.corpus[word]):\n",
        "\t\t\t\t\t\tif doc1 in self.corpus[word]:\n",
        "\t\t\t\t\t\t\tdoc1_aux += 1\n",
        "\t\t\t\t\telif (len(self.corpus[word][doc1]) > len(self.corpus[word][doc2])):\n",
        "\t\t\t\t\t\tdoc1_aux += 1\n",
        "\t\t\t\t\telse:\n",
        "\t\t\t\t\t\tdoc2_aux += 1\n",
        "\t\t\t\treturn doc2_aux - doc1_aux\n",
        "\t\t\treturn rank_sort_func\n",
        "\t\t\n",
        "\t\tranked = sorted(docs, key=functools.cmp_to_key(rank_sort(words)))\n",
        "\t\treturn ranked\n",
        "\n",
        "\tdef search(self, query, op=\"AND\"):\n",
        "\t\twords = [word for _, word in self.word_index(query) if word in self.corpus]\n",
        "\t\tresults = [set(self.corpus[word].keys()) for word in words]\n",
        "\t\tif (op == \"AND\"):\n",
        "\t\t\tresults = functools.reduce(lambda x, y: x & y, results) if results else []\n",
        "\t\telse:\n",
        "\t\t\tresults = [list(docs) for docs in results]\n",
        "\t\t\tresults = set(itertools.chain.from_iterable(results))\n",
        "\t\tranked_results = self.rank(words, results)\n",
        "\t\tprint(\"unranked_results:\",results)\n",
        "\t\treturn ranked_results"
      ],
      "metadata": {
        "id": "JVZ2X-sGtzLo"
      },
      "execution_count": 34,
      "outputs": []
    },
    {
      "cell_type": "markdown",
      "source": [
        "\n",
        "### Main para testes de Buscas e Rankeamento:"
      ],
      "metadata": {
        "id": "g2euD3iS4OQ7"
      }
    },
    {
      "cell_type": "code",
      "execution_count": 35,
      "metadata": {
        "id": "3_I2nmW_cuBf",
        "colab": {
          "base_uri": "https://localhost:8080/"
        },
        "outputId": "7513ea4a-413b-492c-a230-604d7f0fe3c8"
      },
      "outputs": [
        {
          "output_type": "stream",
          "name": "stdout",
          "text": [
            "query: food\n",
            "unranked_results: {2}\n",
            "ranked_results: [2]\n",
            "\n",
            "query: cooks food\n",
            "unranked_results: {2}\n",
            "ranked_results: [2]\n",
            "\n",
            "query: cooks food\n",
            "unranked_results: {2, 3}\n",
            "ranked_results: [2, 3]\n",
            "\n",
            "query: fun\n",
            "unranked_results: {2, 3, 4, 5}\n",
            "ranked_results: [4, 5, 2, 3]\n"
          ]
        }
      ],
      "source": [
        "# O rankeamento preza mais por Revocação do que a Precisão.\n",
        "def main():\n",
        "  path_corpus_file = './corpus.csv'\n",
        "  se = InMemSearchEngine(path_corpus_file)\n",
        "\n",
        "  query = 'food'\n",
        "  print(\"query:\", query)\n",
        "  results = se.search(query)\n",
        "  print(\"ranked_results:\", results)\n",
        "\n",
        "  print()\n",
        "\n",
        "  query = 'cooks food'\n",
        "  print(\"query:\", query)\n",
        "  results = se.search(query)\n",
        "  print(\"ranked_results:\", results)\n",
        "\n",
        "  print()\n",
        "\n",
        "  query = 'cooks food'\n",
        "  print(\"query:\", query)\n",
        "  results = se.search(query, op=\"OR\")\n",
        "  print(\"ranked_results:\", results)\n",
        "\n",
        "  print()\n",
        "\n",
        "  query = 'fun'\n",
        "  print(\"query:\", query)\n",
        "  results = se.search(query)\n",
        "  print(\"ranked_results:\", results)\n",
        "\n",
        "main()"
      ]
    },
    {
      "cell_type": "markdown",
      "source": [
        "### Teste de ordem e/ou proximidade entre as palavras (em desenvolvimento):"
      ],
      "metadata": {
        "id": "V4DrRhTRnIll"
      }
    },
    {
      "cell_type": "code",
      "source": [
        ""
      ],
      "metadata": {
        "id": "XisqfI-unHqp"
      },
      "execution_count": 35,
      "outputs": []
    }
  ]
}